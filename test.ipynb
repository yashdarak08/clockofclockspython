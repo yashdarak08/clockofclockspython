{
 "cells": [
  {
   "cell_type": "code",
   "execution_count": 16,
   "id": "0bd07cb9",
   "metadata": {},
   "outputs": [
    {
     "name": "stdout",
     "output_type": "stream",
     "text": [
      "10 57 13\n",
      "<class 'str'>\n"
     ]
    }
   ],
   "source": [
    "from datetime import datetime as dt\n",
    "\n",
    "now = dt.now()\n",
    "hour = str(now.hour).zfill(2)\n",
    "minute = str(now.minute).zfill(2)\n",
    "second = str(now.second).zfill(2)\n",
    "\n",
    "print(hour, minute, second)\n",
    "print(type(second))"
   ]
  },
  {
   "cell_type": "code",
   "execution_count": 18,
   "id": "3c806cb2",
   "metadata": {},
   "outputs": [
    {
     "name": "stdout",
     "output_type": "stream",
     "text": [
      "2025-10-19 11:05:58.669717\n"
     ]
    },
    {
     "ename": "SystemExit",
     "evalue": "",
     "output_type": "error",
     "traceback": [
      "An exception has occurred, use %tb to see the full traceback.\n",
      "\u001b[1;31mSystemExit\u001b[0m\n"
     ]
    }
   ],
   "source": [
    "import digit\n",
    "import thepg\n",
    "import pygame\n",
    "\n",
    "frame_width = 1024\n",
    "frame_heigth = 300\n",
    "radius = frame_width // 64\n",
    "gap = radius // 8\n",
    "w = 1\n",
    "start_x = ( frame_width - (26 * 2 * radius) - (25 * gap) ) // 2 + radius\n",
    "start_y = ( frame_heigth - (6 * 2 * radius) - (5 * gap) ) // 2 + radius\n",
    "temp1 = (4 * 2 * radius) + (4 * gap)\n",
    "temp2 = (5 * 2 * radius) + (5 * gap)\n",
    "\n",
    "GREEN = (0, 255, 0)\n",
    "BLACK = (0, 0, 0)\n",
    "GRAY = (100, 100, 100)\n",
    "\n",
    "now = dt.now()\n",
    "hour = str(now.hour).zfill(2)\n",
    "minute = str(now.minute).zfill(2)\n",
    "second = str(now.second).zfill(2)\n",
    "\n",
    "screen = pygame.display.set_mode((frame_width, frame_heigth), pygame.RESIZABLE, pygame.SCALED)\n",
    "thepg.draw(screen, BLACK, hour, minute, second, start_x, start_y, radius)"
   ]
  }
 ],
 "metadata": {
  "kernelspec": {
   "display_name": "Python 3",
   "language": "python",
   "name": "python3"
  },
  "language_info": {
   "codemirror_mode": {
    "name": "ipython",
    "version": 3
   },
   "file_extension": ".py",
   "mimetype": "text/x-python",
   "name": "python",
   "nbconvert_exporter": "python",
   "pygments_lexer": "ipython3",
   "version": "3.13.2"
  }
 },
 "nbformat": 4,
 "nbformat_minor": 5
}
